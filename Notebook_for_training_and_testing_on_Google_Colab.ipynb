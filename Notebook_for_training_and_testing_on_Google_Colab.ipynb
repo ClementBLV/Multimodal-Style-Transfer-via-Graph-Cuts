{
 "cells": [
  {
   "cell_type": "markdown",
   "metadata": {
    "colab_type": "text",
    "id": "view-in-github"
   },
   "source": [
    "<a href=\"https://colab.research.google.com/github/Rakshit-Shetty/Multimodal-Style-Transfer-via-Graph-Cuts/blob/master/Notebook_for_training_and_testing_on_Google_Colab.ipynb\" target=\"_parent\"><img src=\"https://colab.research.google.com/assets/colab-badge.svg\" alt=\"Open In Colab\"/></a>"
   ]
  },
  {
   "cell_type": "markdown",
   "metadata": {
    "colab_type": "text",
    "id": "IGOJq0Ovgsw_"
   },
   "source": [
    "#**Cloning the Repository to get the files**"
   ]
  },
  {
   "cell_type": "code",
   "execution_count": null,
   "metadata": {
    "colab": {
     "base_uri": "https://localhost:8080/",
     "height": 145
    },
    "colab_type": "code",
    "id": "U9ccS5pc0CIf",
    "outputId": "5bbab673-c691-422b-e023-45ba39851efa"
   },
   "outputs": [
    {
     "name": "stdout",
     "output_type": "stream",
     "text": [
      "Cloning into 'Multimodal-Style-Transfer-via-Graph-Cuts'...\n",
      "remote: Enumerating objects: 4, done.\u001b[K\n",
      "remote: Counting objects:  25% (1/4)\u001b[K\r",
      "remote: Counting objects:  50% (2/4)\u001b[K\r",
      "remote: Counting objects:  75% (3/4)\u001b[K\r",
      "remote: Counting objects: 100% (4/4)\u001b[K\r",
      "remote: Counting objects: 100% (4/4), done.\u001b[K\n",
      "remote: Compressing objects:  33% (1/3)\u001b[K\r",
      "remote: Compressing objects:  66% (2/3)\u001b[K\r",
      "remote: Compressing objects: 100% (3/3)\u001b[K\r",
      "remote: Compressing objects: 100% (3/3), done.\u001b[K\n",
      "Receiving objects:   0% (1/220)   \r",
      "Receiving objects:   1% (3/220)   \r",
      "Receiving objects:   2% (5/220)   \r",
      "Receiving objects:   3% (7/220)   \r",
      "Receiving objects:   4% (9/220)   \r",
      "Receiving objects:   5% (11/220)   \r",
      "Receiving objects:   6% (14/220)   \r",
      "Receiving objects:   7% (16/220)   \r",
      "Receiving objects:   8% (18/220)   \r",
      "Receiving objects:   9% (20/220)   \r",
      "Receiving objects:  10% (22/220)   \r",
      "Receiving objects:  11% (25/220)   \r",
      "Receiving objects:  12% (27/220)   \r",
      "Receiving objects:  13% (29/220)   \r",
      "Receiving objects:  14% (31/220)   \r",
      "Receiving objects:  15% (33/220)   \r",
      "Receiving objects:  16% (36/220)   \r",
      "Receiving objects:  17% (38/220)   \r",
      "Receiving objects:  18% (40/220)   \r",
      "Receiving objects:  19% (42/220)   \r",
      "Receiving objects:  20% (44/220)   \r",
      "Receiving objects:  21% (47/220)   \r",
      "Receiving objects:  22% (49/220)   \r",
      "Receiving objects:  23% (51/220)   \r",
      "Receiving objects:  24% (53/220)   \r",
      "Receiving objects:  25% (55/220)   \r",
      "Receiving objects:  26% (58/220)   \r",
      "Receiving objects:  27% (60/220)   \r",
      "Receiving objects:  28% (62/220)   \r",
      "Receiving objects:  29% (64/220)   \r",
      "Receiving objects:  30% (66/220)   \r",
      "Receiving objects:  31% (69/220)   \r",
      "Receiving objects:  32% (71/220)   \r",
      "Receiving objects:  33% (73/220)   \r",
      "Receiving objects:  34% (75/220)   \r",
      "Receiving objects:  35% (77/220)   \r",
      "Receiving objects:  36% (80/220)   \r",
      "Receiving objects:  37% (82/220)   \r",
      "Receiving objects:  38% (84/220)   \r",
      "Receiving objects:  39% (86/220)   \r",
      "Receiving objects:  40% (88/220)   \r",
      "Receiving objects:  41% (91/220)   \r",
      "Receiving objects:  42% (93/220)   \r",
      "Receiving objects:  43% (95/220)   \r",
      "Receiving objects:  44% (97/220)   \r",
      "Receiving objects:  45% (99/220)   \r",
      "Receiving objects:  46% (102/220)   \r",
      "Receiving objects:  47% (104/220)   \r",
      "Receiving objects:  48% (106/220)   \r",
      "Receiving objects:  49% (108/220)   \r",
      "Receiving objects:  50% (110/220)   \r",
      "Receiving objects:  51% (113/220)   \r",
      "Receiving objects:  52% (115/220)   \r",
      "Receiving objects:  53% (117/220)   \r",
      "Receiving objects:  54% (119/220)   \r",
      "Receiving objects:  55% (121/220)   \r",
      "Receiving objects:  56% (124/220)   \r",
      "Receiving objects:  57% (126/220)   \r",
      "Receiving objects:  58% (128/220)   \r",
      "Receiving objects:  59% (130/220)   \r",
      "Receiving objects:  60% (132/220)   \r",
      "Receiving objects:  61% (135/220)   \r",
      "Receiving objects:  62% (137/220)   \r",
      "Receiving objects:  63% (139/220)   \r",
      "Receiving objects:  64% (141/220)   \r",
      "Receiving objects:  65% (143/220)   \r",
      "Receiving objects:  66% (146/220)   \r",
      "Receiving objects:  67% (148/220)   \r",
      "Receiving objects:  68% (150/220)   \r",
      "Receiving objects:  69% (152/220)   \r",
      "Receiving objects:  70% (154/220)   \r",
      "Receiving objects:  71% (157/220)   \r",
      "Receiving objects:  72% (159/220)   \r",
      "Receiving objects:  73% (161/220)   \r",
      "Receiving objects:  74% (163/220)   \r",
      "Receiving objects:  75% (165/220)   \r",
      "Receiving objects:  76% (168/220)   \r",
      "Receiving objects:  77% (170/220)   \r",
      "Receiving objects:  78% (172/220)   \r",
      "Receiving objects:  79% (174/220)   \r",
      "Receiving objects:  80% (176/220)   \r",
      "Receiving objects:  81% (179/220)   \r",
      "Receiving objects:  82% (181/220)   \r",
      "Receiving objects:  83% (183/220)   \r",
      "Receiving objects:  84% (185/220)   \r",
      "Receiving objects:  85% (187/220)   \r",
      "Receiving objects:  86% (190/220)   \r",
      "Receiving objects:  87% (192/220)   \r",
      "Receiving objects:  88% (194/220)   \r",
      "Receiving objects:  89% (196/220)   \r",
      "Receiving objects:  90% (198/220)   \r",
      "Receiving objects:  91% (201/220)   \r",
      "Receiving objects:  92% (203/220)   \r",
      "Receiving objects:  93% (205/220)   \r",
      "remote: Total 220 (delta 1), reused 4 (delta 1), pack-reused 216\u001b[K\n",
      "Receiving objects:  94% (207/220)   \r",
      "Receiving objects:  95% (209/220)   \r",
      "Receiving objects:  96% (212/220)   \r",
      "Receiving objects:  97% (214/220)   \r",
      "Receiving objects:  98% (216/220)   \r",
      "Receiving objects:  99% (218/220)   \r",
      "Receiving objects: 100% (220/220)   \r",
      "Receiving objects: 100% (220/220), 61.81 KiB | 2.29 MiB/s, done.\n",
      "Resolving deltas:   0% (0/124)   \r",
      "Resolving deltas:  23% (29/124)   \r",
      "Resolving deltas:  25% (31/124)   \r",
      "Resolving deltas:  29% (37/124)   \r",
      "Resolving deltas:  44% (55/124)   \r",
      "Resolving deltas:  47% (59/124)   \r",
      "Resolving deltas:  50% (63/124)   \r",
      "Resolving deltas:  53% (66/124)   \r",
      "Resolving deltas:  58% (72/124)   \r",
      "Resolving deltas:  89% (111/124)   \r",
      "Resolving deltas:  91% (114/124)   \r",
      "Resolving deltas:  98% (122/124)   \r",
      "Resolving deltas:  99% (123/124)   \r",
      "Resolving deltas: 100% (124/124)   \r",
      "Resolving deltas: 100% (124/124), done.\n"
     ]
    }
   ],
   "source": [
    "!git clone https://github.com/Rakshit-Shetty/Multimodal-Style-Transfer-via-Graph-Cuts.git"
   ]
  },
  {
   "cell_type": "markdown",
   "metadata": {
    "colab_type": "text",
    "id": "btohJXLFjPiB"
   },
   "source": [
    "#**Installing PyMaxflow**\n",
    "PyMaxflow is a Python library for graph construction and maxflow computation (commonly known as graph cuts)"
   ]
  },
  {
   "cell_type": "code",
   "execution_count": null,
   "metadata": {
    "colab": {
     "base_uri": "https://localhost:8080/",
     "height": 219
    },
    "colab_type": "code",
    "id": "2ZUF_y8b3F-3",
    "outputId": "03fa1abf-8fa6-464f-bc01-83592201ae4b"
   },
   "outputs": [
    {
     "name": "stdout",
     "output_type": "stream",
     "text": [
      "Collecting PyMaxflow\n",
      "\u001b[?25l  Downloading https://files.pythonhosted.org/packages/f7/3c/2baa3a4ebf03a8a2f87a3f096ec099c86988ecf8f40bd0b7de320b62c96c/PyMaxflow-1.2.12.tar.gz (122kB)\n",
      "\r",
      "\u001b[K     |██▋                             | 10kB 11.3MB/s eta 0:00:01\r",
      "\u001b[K     |█████▎                          | 20kB 2.2MB/s eta 0:00:01\r",
      "\u001b[K     |████████                        | 30kB 2.8MB/s eta 0:00:01\r",
      "\u001b[K     |██████████▋                     | 40kB 2.1MB/s eta 0:00:01\r",
      "\u001b[K     |█████████████▎                  | 51kB 2.4MB/s eta 0:00:01\r",
      "\u001b[K     |████████████████                | 61kB 2.8MB/s eta 0:00:01\r",
      "\u001b[K     |██████████████████▋             | 71kB 3.0MB/s eta 0:00:01\r",
      "\u001b[K     |█████████████████████▎          | 81kB 3.3MB/s eta 0:00:01\r",
      "\u001b[K     |████████████████████████        | 92kB 3.6MB/s eta 0:00:01\r",
      "\u001b[K     |██████████████████████████▋     | 102kB 3.4MB/s eta 0:00:01\r",
      "\u001b[K     |█████████████████████████████▎  | 112kB 3.4MB/s eta 0:00:01\r",
      "\u001b[K     |████████████████████████████████| 122kB 3.4MB/s eta 0:00:01\r",
      "\u001b[K     |████████████████████████████████| 133kB 3.4MB/s \n",
      "\u001b[?25hBuilding wheels for collected packages: PyMaxflow\n",
      "  Building wheel for PyMaxflow (setup.py) ... \u001b[?25l\u001b[?25hdone\n",
      "  Created wheel for PyMaxflow: filename=PyMaxflow-1.2.12-cp36-cp36m-linux_x86_64.whl size=537262 sha256=7545659bc0ee7a4c539f1b442de186abaefb15da68a7850dfd579bfc244de863\n",
      "  Stored in directory: /root/.cache/pip/wheels/56/ab/a8/12b43e2024215b384364145b140e14a838b45ad39989f51a4f\n",
      "Successfully built PyMaxflow\n",
      "Installing collected packages: PyMaxflow\n",
      "Successfully installed PyMaxflow-1.2.12\n"
     ]
    }
   ],
   "source": [
    "!pip install PyMaxflow"
   ]
  },
  {
   "cell_type": "markdown",
   "metadata": {
    "colab_type": "text",
    "id": "d2_qL_UYg1wb"
   },
   "source": [
    "#**Creating Directory and Sub-Diretory to save the datasets**"
   ]
  },
  {
   "cell_type": "code",
   "execution_count": null,
   "metadata": {
    "colab": {},
    "colab_type": "code",
    "id": "wsp8W3LM1LRL"
   },
   "outputs": [],
   "source": [
    "%mkdir 'data'\n",
    "%mkdir 'data/content'\n",
    "%mkdir 'data/style'"
   ]
  },
  {
   "cell_type": "markdown",
   "metadata": {
    "colab_type": "text",
    "id": "dCuIhRqShTvI"
   },
   "source": [
    "#**Collecting the COCO Dataset as content dataset and unzipping it**\n",
    "Note: Please delete the original zip files after unzipping them so that you are not left out of space"
   ]
  },
  {
   "cell_type": "code",
   "execution_count": null,
   "metadata": {
    "colab": {
     "base_uri": "https://localhost:8080/",
     "height": 217
    },
    "colab_type": "code",
    "id": "AAACxWOq0Q5U",
    "outputId": "2cfedb01-c7bd-4301-ea4f-59e526920115"
   },
   "outputs": [
    {
     "name": "stdout",
     "output_type": "stream",
     "text": [
      "--2020-01-13 08:17:19--  http://images.cocodataset.org/zips/val2014.zip\n",
      "Resolving images.cocodataset.org (images.cocodataset.org)... 52.216.32.120\n",
      "Connecting to images.cocodataset.org (images.cocodataset.org)|52.216.32.120|:80... connected.\n",
      "HTTP request sent, awaiting response... 200 OK\n",
      "Length: 6645013297 (6.2G) [application/zip]\n",
      "Saving to: ‘val2014.zip’\n",
      "\n",
      "val2014.zip         100%[===================>]   6.19G  49.3MB/s    in 2m 15s  \n",
      "\n",
      "2020-01-13 08:19:34 (47.0 MB/s) - ‘val2014.zip’ saved [6645013297/6645013297]\n",
      "\n"
     ]
    }
   ],
   "source": [
    "!wget http://images.cocodataset.org/zips/train2017.zip"
   ]
  },
  {
   "cell_type": "code",
   "execution_count": null,
   "metadata": {
    "colab": {},
    "colab_type": "code",
    "id": "Az4jH-D7r38S"
   },
   "outputs": [],
   "source": [
    "%%capture\n",
    "!unzip train2017.zip -d 'data/content'"
   ]
  },
  {
   "cell_type": "code",
   "execution_count": null,
   "metadata": {
    "colab": {
     "base_uri": "https://localhost:8080/",
     "height": 217
    },
    "colab_type": "code",
    "id": "IjFd30tW0fpd",
    "outputId": "b6fbcb9f-ac5a-4957-b079-b2ca475cbd91"
   },
   "outputs": [
    {
     "name": "stdout",
     "output_type": "stream",
     "text": [
      "--2020-01-13 08:23:00--  http://images.cocodataset.org/zips/test2017.zip\n",
      "Resolving images.cocodataset.org (images.cocodataset.org)... 52.216.238.59\n",
      "Connecting to images.cocodataset.org (images.cocodataset.org)|52.216.238.59|:80... connected.\n",
      "HTTP request sent, awaiting response... 200 OK\n",
      "Length: 6646970404 (6.2G) [application/zip]\n",
      "Saving to: ‘test2017.zip’\n",
      "\n",
      "test2017.zip        100%[===================>]   6.19G  41.1MB/s    in 2m 17s  \n",
      "\n",
      "2020-01-13 08:25:17 (46.4 MB/s) - ‘test2017.zip’ saved [6646970404/6646970404]\n",
      "\n"
     ]
    }
   ],
   "source": [
    "!wget http://images.cocodataset.org/zips/test2017.zip"
   ]
  },
  {
   "cell_type": "code",
   "execution_count": null,
   "metadata": {
    "colab": {},
    "colab_type": "code",
    "id": "bFcGqICs2A6R"
   },
   "outputs": [],
   "source": [
    "%%capture\n",
    "!unzip test2017.zip -d 'data/content'"
   ]
  },
  {
   "cell_type": "markdown",
   "metadata": {
    "colab_type": "text",
    "id": "7S_kjFITh_wv"
   },
   "source": [
    "#**Here we are using Kaggle's API to get the datasets from through Kaggle**\n",
    "Note: A Kaggle account is required for this\n",
    "\n",
    "In the first cell upload your kaggle.json file which has the API key and this can be generated by going to your My Account on the top right hand side from your Kaggle account.\n",
    "\n",
    "Just run the second cell without changing anything it will move your kaggle.json file to where it needs to be and install the kaggle api client"
   ]
  },
  {
   "cell_type": "code",
   "execution_count": null,
   "metadata": {
    "colab": {
     "base_uri": "https://localhost:8080/",
     "height": 93,
     "resources": {
      "http://localhost:8080/nbextensions/google.colab/files.js": {
       "data": "Ly8gQ29weXJpZ2h0IDIwMTcgR29vZ2xlIExMQwovLwovLyBMaWNlbnNlZCB1bmRlciB0aGUgQXBhY2hlIExpY2Vuc2UsIFZlcnNpb24gMi4wICh0aGUgIkxpY2Vuc2UiKTsKLy8geW91IG1heSBub3QgdXNlIHRoaXMgZmlsZSBleGNlcHQgaW4gY29tcGxpYW5jZSB3aXRoIHRoZSBMaWNlbnNlLgovLyBZb3UgbWF5IG9idGFpbiBhIGNvcHkgb2YgdGhlIExpY2Vuc2UgYXQKLy8KLy8gICAgICBodHRwOi8vd3d3LmFwYWNoZS5vcmcvbGljZW5zZXMvTElDRU5TRS0yLjAKLy8KLy8gVW5sZXNzIHJlcXVpcmVkIGJ5IGFwcGxpY2FibGUgbGF3IG9yIGFncmVlZCB0byBpbiB3cml0aW5nLCBzb2Z0d2FyZQovLyBkaXN0cmlidXRlZCB1bmRlciB0aGUgTGljZW5zZSBpcyBkaXN0cmlidXRlZCBvbiBhbiAiQVMgSVMiIEJBU0lTLAovLyBXSVRIT1VUIFdBUlJBTlRJRVMgT1IgQ09ORElUSU9OUyBPRiBBTlkgS0lORCwgZWl0aGVyIGV4cHJlc3Mgb3IgaW1wbGllZC4KLy8gU2VlIHRoZSBMaWNlbnNlIGZvciB0aGUgc3BlY2lmaWMgbGFuZ3VhZ2UgZ292ZXJuaW5nIHBlcm1pc3Npb25zIGFuZAovLyBsaW1pdGF0aW9ucyB1bmRlciB0aGUgTGljZW5zZS4KCi8qKgogKiBAZmlsZW92ZXJ2aWV3IEhlbHBlcnMgZm9yIGdvb2dsZS5jb2xhYiBQeXRob24gbW9kdWxlLgogKi8KKGZ1bmN0aW9uKHNjb3BlKSB7CmZ1bmN0aW9uIHNwYW4odGV4dCwgc3R5bGVBdHRyaWJ1dGVzID0ge30pIHsKICBjb25zdCBlbGVtZW50ID0gZG9jdW1lbnQuY3JlYXRlRWxlbWVudCgnc3BhbicpOwogIGVsZW1lbnQudGV4dENvbnRlbnQgPSB0ZXh0OwogIGZvciAoY29uc3Qga2V5IG9mIE9iamVjdC5rZXlzKHN0eWxlQXR0cmlidXRlcykpIHsKICAgIGVsZW1lbnQuc3R5bGVba2V5XSA9IHN0eWxlQXR0cmlidXRlc1trZXldOwogIH0KICByZXR1cm4gZWxlbWVudDsKfQoKLy8gTWF4IG51bWJlciBvZiBieXRlcyB3aGljaCB3aWxsIGJlIHVwbG9hZGVkIGF0IGEgdGltZS4KY29uc3QgTUFYX1BBWUxPQURfU0laRSA9IDEwMCAqIDEwMjQ7Ci8vIE1heCBhbW91bnQgb2YgdGltZSB0byBibG9jayB3YWl0aW5nIGZvciB0aGUgdXNlci4KY29uc3QgRklMRV9DSEFOR0VfVElNRU9VVF9NUyA9IDMwICogMTAwMDsKCmZ1bmN0aW9uIF91cGxvYWRGaWxlcyhpbnB1dElkLCBvdXRwdXRJZCkgewogIGNvbnN0IHN0ZXBzID0gdXBsb2FkRmlsZXNTdGVwKGlucHV0SWQsIG91dHB1dElkKTsKICBjb25zdCBvdXRwdXRFbGVtZW50ID0gZG9jdW1lbnQuZ2V0RWxlbWVudEJ5SWQob3V0cHV0SWQpOwogIC8vIENhY2hlIHN0ZXBzIG9uIHRoZSBvdXRwdXRFbGVtZW50IHRvIG1ha2UgaXQgYXZhaWxhYmxlIGZvciB0aGUgbmV4dCBjYWxsCiAgLy8gdG8gdXBsb2FkRmlsZXNDb250aW51ZSBmcm9tIFB5dGhvbi4KICBvdXRwdXRFbGVtZW50LnN0ZXBzID0gc3RlcHM7CgogIHJldHVybiBfdXBsb2FkRmlsZXNDb250aW51ZShvdXRwdXRJZCk7Cn0KCi8vIFRoaXMgaXMgcm91Z2hseSBhbiBhc3luYyBnZW5lcmF0b3IgKG5vdCBzdXBwb3J0ZWQgaW4gdGhlIGJyb3dzZXIgeWV0KSwKLy8gd2hlcmUgdGhlcmUgYXJlIG11bHRpcGxlIGFzeW5jaHJvbm91cyBzdGVwcyBhbmQgdGhlIFB5dGhvbiBzaWRlIGlzIGdvaW5nCi8vIHRvIHBvbGwgZm9yIGNvbXBsZXRpb24gb2YgZWFjaCBzdGVwLgovLyBUaGlzIHVzZXMgYSBQcm9taXNlIHRvIGJsb2NrIHRoZSBweXRob24gc2lkZSBvbiBjb21wbGV0aW9uIG9mIGVhY2ggc3RlcCwKLy8gdGhlbiBwYXNzZXMgdGhlIHJlc3VsdCBvZiB0aGUgcHJldmlvdXMgc3RlcCBhcyB0aGUgaW5wdXQgdG8gdGhlIG5leHQgc3RlcC4KZnVuY3Rpb24gX3VwbG9hZEZpbGVzQ29udGludWUob3V0cHV0SWQpIHsKICBjb25zdCBvdXRwdXRFbGVtZW50ID0gZG9jdW1lbnQuZ2V0RWxlbWVudEJ5SWQob3V0cHV0SWQpOwogIGNvbnN0IHN0ZXBzID0gb3V0cHV0RWxlbWVudC5zdGVwczsKCiAgY29uc3QgbmV4dCA9IHN0ZXBzLm5leHQob3V0cHV0RWxlbWVudC5sYXN0UHJvbWlzZVZhbHVlKTsKICByZXR1cm4gUHJvbWlzZS5yZXNvbHZlKG5leHQudmFsdWUucHJvbWlzZSkudGhlbigodmFsdWUpID0+IHsKICAgIC8vIENhY2hlIHRoZSBsYXN0IHByb21pc2UgdmFsdWUgdG8gbWFrZSBpdCBhdmFpbGFibGUgdG8gdGhlIG5leHQKICAgIC8vIHN0ZXAgb2YgdGhlIGdlbmVyYXRvci4KICAgIG91dHB1dEVsZW1lbnQubGFzdFByb21pc2VWYWx1ZSA9IHZhbHVlOwogICAgcmV0dXJuIG5leHQudmFsdWUucmVzcG9uc2U7CiAgfSk7Cn0KCi8qKgogKiBHZW5lcmF0b3IgZnVuY3Rpb24gd2hpY2ggaXMgY2FsbGVkIGJldHdlZW4gZWFjaCBhc3luYyBzdGVwIG9mIHRoZSB1cGxvYWQKICogcHJvY2Vzcy4KICogQHBhcmFtIHtzdHJpbmd9IGlucHV0SWQgRWxlbWVudCBJRCBvZiB0aGUgaW5wdXQgZmlsZSBwaWNrZXIgZWxlbWVudC4KICogQHBhcmFtIHtzdHJpbmd9IG91dHB1dElkIEVsZW1lbnQgSUQgb2YgdGhlIG91dHB1dCBkaXNwbGF5LgogKiBAcmV0dXJuIHshSXRlcmFibGU8IU9iamVjdD59IEl0ZXJhYmxlIG9mIG5leHQgc3RlcHMuCiAqLwpmdW5jdGlvbiogdXBsb2FkRmlsZXNTdGVwKGlucHV0SWQsIG91dHB1dElkKSB7CiAgY29uc3QgaW5wdXRFbGVtZW50ID0gZG9jdW1lbnQuZ2V0RWxlbWVudEJ5SWQoaW5wdXRJZCk7CiAgaW5wdXRFbGVtZW50LmRpc2FibGVkID0gZmFsc2U7CgogIGNvbnN0IG91dHB1dEVsZW1lbnQgPSBkb2N1bWVudC5nZXRFbGVtZW50QnlJZChvdXRwdXRJZCk7CiAgb3V0cHV0RWxlbWVudC5pbm5lckhUTUwgPSAnJzsKCiAgY29uc3QgcGlja2VkUHJvbWlzZSA9IG5ldyBQcm9taXNlKChyZXNvbHZlKSA9PiB7CiAgICBpbnB1dEVsZW1lbnQuYWRkRXZlbnRMaXN0ZW5lcignY2hhbmdlJywgKGUpID0+IHsKICAgICAgcmVzb2x2ZShlLnRhcmdldC5maWxlcyk7CiAgICB9KTsKICB9KTsKCiAgY29uc3QgY2FuY2VsID0gZG9jdW1lbnQuY3JlYXRlRWxlbWVudCgnYnV0dG9uJyk7CiAgaW5wdXRFbGVtZW50LnBhcmVudEVsZW1lbnQuYXBwZW5kQ2hpbGQoY2FuY2VsKTsKICBjYW5jZWwudGV4dENvbnRlbnQgPSAnQ2FuY2VsIHVwbG9hZCc7CiAgY29uc3QgY2FuY2VsUHJvbWlzZSA9IG5ldyBQcm9taXNlKChyZXNvbHZlKSA9PiB7CiAgICBjYW5jZWwub25jbGljayA9ICgpID0+IHsKICAgICAgcmVzb2x2ZShudWxsKTsKICAgIH07CiAgfSk7CgogIC8vIENhbmNlbCB1cGxvYWQgaWYgdXNlciBoYXNuJ3QgcGlja2VkIGFueXRoaW5nIGluIHRpbWVvdXQuCiAgY29uc3QgdGltZW91dFByb21pc2UgPSBuZXcgUHJvbWlzZSgocmVzb2x2ZSkgPT4gewogICAgc2V0VGltZW91dCgoKSA9PiB7CiAgICAgIHJlc29sdmUobnVsbCk7CiAgICB9LCBGSUxFX0NIQU5HRV9USU1FT1VUX01TKTsKICB9KTsKCiAgLy8gV2FpdCBmb3IgdGhlIHVzZXIgdG8gcGljayB0aGUgZmlsZXMuCiAgY29uc3QgZmlsZXMgPSB5aWVsZCB7CiAgICBwcm9taXNlOiBQcm9taXNlLnJhY2UoW3BpY2tlZFByb21pc2UsIHRpbWVvdXRQcm9taXNlLCBjYW5jZWxQcm9taXNlXSksCiAgICByZXNwb25zZTogewogICAgICBhY3Rpb246ICdzdGFydGluZycsCiAgICB9CiAgfTsKCiAgaWYgKCFmaWxlcykgewogICAgcmV0dXJuIHsKICAgICAgcmVzcG9uc2U6IHsKICAgICAgICBhY3Rpb246ICdjb21wbGV0ZScsCiAgICAgIH0KICAgIH07CiAgfQoKICBjYW5jZWwucmVtb3ZlKCk7CgogIC8vIERpc2FibGUgdGhlIGlucHV0IGVsZW1lbnQgc2luY2UgZnVydGhlciBwaWNrcyBhcmUgbm90IGFsbG93ZWQuCiAgaW5wdXRFbGVtZW50LmRpc2FibGVkID0gdHJ1ZTsKCiAgZm9yIChjb25zdCBmaWxlIG9mIGZpbGVzKSB7CiAgICBjb25zdCBsaSA9IGRvY3VtZW50LmNyZWF0ZUVsZW1lbnQoJ2xpJyk7CiAgICBsaS5hcHBlbmQoc3BhbihmaWxlLm5hbWUsIHtmb250V2VpZ2h0OiAnYm9sZCd9KSk7CiAgICBsaS5hcHBlbmQoc3BhbigKICAgICAgICBgKCR7ZmlsZS50eXBlIHx8ICduL2EnfSkgLSAke2ZpbGUuc2l6ZX0gYnl0ZXMsIGAgKwogICAgICAgIGBsYXN0IG1vZGlmaWVkOiAkewogICAgICAgICAgICBmaWxlLmxhc3RNb2RpZmllZERhdGUgPyBmaWxlLmxhc3RNb2RpZmllZERhdGUudG9Mb2NhbGVEYXRlU3RyaW5nKCkgOgogICAgICAgICAgICAgICAgICAgICAgICAgICAgICAgICAgICAnbi9hJ30gLSBgKSk7CiAgICBjb25zdCBwZXJjZW50ID0gc3BhbignMCUgZG9uZScpOwogICAgbGkuYXBwZW5kQ2hpbGQocGVyY2VudCk7CgogICAgb3V0cHV0RWxlbWVudC5hcHBlbmRDaGlsZChsaSk7CgogICAgY29uc3QgZmlsZURhdGFQcm9taXNlID0gbmV3IFByb21pc2UoKHJlc29sdmUpID0+IHsKICAgICAgY29uc3QgcmVhZGVyID0gbmV3IEZpbGVSZWFkZXIoKTsKICAgICAgcmVhZGVyLm9ubG9hZCA9IChlKSA9PiB7CiAgICAgICAgcmVzb2x2ZShlLnRhcmdldC5yZXN1bHQpOwogICAgICB9OwogICAgICByZWFkZXIucmVhZEFzQXJyYXlCdWZmZXIoZmlsZSk7CiAgICB9KTsKICAgIC8vIFdhaXQgZm9yIHRoZSBkYXRhIHRvIGJlIHJlYWR5LgogICAgbGV0IGZpbGVEYXRhID0geWllbGQgewogICAgICBwcm9taXNlOiBmaWxlRGF0YVByb21pc2UsCiAgICAgIHJlc3BvbnNlOiB7CiAgICAgICAgYWN0aW9uOiAnY29udGludWUnLAogICAgICB9CiAgICB9OwoKICAgIC8vIFVzZSBhIGNodW5rZWQgc2VuZGluZyB0byBhdm9pZCBtZXNzYWdlIHNpemUgbGltaXRzLiBTZWUgYi82MjExNTY2MC4KICAgIGxldCBwb3NpdGlvbiA9IDA7CiAgICB3aGlsZSAocG9zaXRpb24gPCBmaWxlRGF0YS5ieXRlTGVuZ3RoKSB7CiAgICAgIGNvbnN0IGxlbmd0aCA9IE1hdGgubWluKGZpbGVEYXRhLmJ5dGVMZW5ndGggLSBwb3NpdGlvbiwgTUFYX1BBWUxPQURfU0laRSk7CiAgICAgIGNvbnN0IGNodW5rID0gbmV3IFVpbnQ4QXJyYXkoZmlsZURhdGEsIHBvc2l0aW9uLCBsZW5ndGgpOwogICAgICBwb3NpdGlvbiArPSBsZW5ndGg7CgogICAgICBjb25zdCBiYXNlNjQgPSBidG9hKFN0cmluZy5mcm9tQ2hhckNvZGUuYXBwbHkobnVsbCwgY2h1bmspKTsKICAgICAgeWllbGQgewogICAgICAgIHJlc3BvbnNlOiB7CiAgICAgICAgICBhY3Rpb246ICdhcHBlbmQnLAogICAgICAgICAgZmlsZTogZmlsZS5uYW1lLAogICAgICAgICAgZGF0YTogYmFzZTY0LAogICAgICAgIH0sCiAgICAgIH07CiAgICAgIHBlcmNlbnQudGV4dENvbnRlbnQgPQogICAgICAgICAgYCR7TWF0aC5yb3VuZCgocG9zaXRpb24gLyBmaWxlRGF0YS5ieXRlTGVuZ3RoKSAqIDEwMCl9JSBkb25lYDsKICAgIH0KICB9CgogIC8vIEFsbCBkb25lLgogIHlpZWxkIHsKICAgIHJlc3BvbnNlOiB7CiAgICAgIGFjdGlvbjogJ2NvbXBsZXRlJywKICAgIH0KICB9Owp9CgpzY29wZS5nb29nbGUgPSBzY29wZS5nb29nbGUgfHwge307CnNjb3BlLmdvb2dsZS5jb2xhYiA9IHNjb3BlLmdvb2dsZS5jb2xhYiB8fCB7fTsKc2NvcGUuZ29vZ2xlLmNvbGFiLl9maWxlcyA9IHsKICBfdXBsb2FkRmlsZXMsCiAgX3VwbG9hZEZpbGVzQ29udGludWUsCn07Cn0pKHNlbGYpOwo=",
       "headers": [
        [
         "content-type",
         "application/javascript"
        ]
       ],
       "ok": true,
       "status": 200,
       "status_text": ""
      }
     }
    },
    "colab_type": "code",
    "id": "afc-LbyeUEQl",
    "outputId": "163264a2-8494-4174-c1f4-9c19661f380a"
   },
   "outputs": [
    {
     "data": {
      "text/html": [
       "\n",
       "     <input type=\"file\" id=\"files-58c885e7-3787-4127-9232-fdf1ba5fd6b5\" name=\"files[]\" multiple disabled />\n",
       "     <output id=\"result-58c885e7-3787-4127-9232-fdf1ba5fd6b5\">\n",
       "      Upload widget is only available when the cell has been executed in the\n",
       "      current browser session. Please rerun this cell to enable.\n",
       "      </output>\n",
       "      <script src=\"/nbextensions/google.colab/files.js\"></script> "
      ],
      "text/plain": [
       "<IPython.core.display.HTML object>"
      ]
     },
     "metadata": {
      "tags": []
     },
     "output_type": "display_data"
    },
    {
     "name": "stdout",
     "output_type": "stream",
     "text": [
      "Saving kaggle.json to kaggle.json\n"
     ]
    },
    {
     "data": {
      "text/plain": [
       "{'kaggle.json': b'{\"username\":\"rakshitshetty\",\"key\":\"e29b39e3bb57462286d83b8a1586d72c\"}'}"
      ]
     },
     "execution_count": 8,
     "metadata": {
      "tags": []
     },
     "output_type": "execute_result"
    }
   ],
   "source": [
    "from google.colab import files\n",
    "files.upload()"
   ]
  },
  {
   "cell_type": "code",
   "execution_count": null,
   "metadata": {
    "colab": {
     "base_uri": "https://localhost:8080/",
     "height": 35
    },
    "colab_type": "code",
    "id": "9Fr5tjJOUVZF",
    "outputId": "98b86aa3-2d0c-46c6-ff47-fe7af4dc99ae"
   },
   "outputs": [
    {
     "name": "stdout",
     "output_type": "stream",
     "text": [
      "kaggle.json\n"
     ]
    }
   ],
   "source": [
    "!pip install -q kaggle\n",
    "!mkdir -p ~/.kaggle\n",
    "!cp kaggle.json ~/.kaggle/\n",
    "!ls ~/.kaggle\n",
    "!chmod 600 /root/.kaggle/kaggle.json  # set permission"
   ]
  },
  {
   "cell_type": "markdown",
   "metadata": {
    "colab_type": "text",
    "id": "r6gbob7Ih4Ge"
   },
   "source": [
    "#**Collecting the WikiArt Dataset as style dataset and unzipping it**\n",
    "Note: Please delete the original zip files after unzipping them so that you are not left out of space"
   ]
  },
  {
   "cell_type": "code",
   "execution_count": null,
   "metadata": {
    "colab": {
     "base_uri": "https://localhost:8080/",
     "height": 72
    },
    "colab_type": "code",
    "id": "xI90gTULb6pb",
    "outputId": "f1bf8264-644d-4bf0-86fd-d40a92468b28"
   },
   "outputs": [
    {
     "name": "stdout",
     "output_type": "stream",
     "text": [
      "Downloading train_1.zip to /content\n",
      "100% 4.74G/4.76G [01:38<00:00, 37.0MB/s]\n",
      "100% 4.76G/4.76G [01:39<00:00, 51.6MB/s]\n"
     ]
    }
   ],
   "source": [
    "!kaggle competitions download -c painter-by-numbers -f train.zip"
   ]
  },
  {
   "cell_type": "code",
   "execution_count": null,
   "metadata": {
    "colab": {},
    "colab_type": "code",
    "id": "D92SNUI12HUw"
   },
   "outputs": [],
   "source": [
    "%%capture\n",
    "!unzip train.zip -d 'data/style'"
   ]
  },
  {
   "cell_type": "code",
   "execution_count": null,
   "metadata": {
    "colab": {
     "base_uri": "https://localhost:8080/",
     "height": 72
    },
    "colab_type": "code",
    "id": "sdRQMiPz9VDQ",
    "outputId": "4b63c2c1-3c12-4a05-ecca-530af93331a4"
   },
   "outputs": [
    {
     "name": "stdout",
     "output_type": "stream",
     "text": [
      "Downloading train_7.zip to /content\n",
      "100% 4.10G/4.11G [01:44<00:00, 48.0MB/s]\n",
      "100% 4.11G/4.11G [01:44<00:00, 42.1MB/s]\n"
     ]
    }
   ],
   "source": [
    "!kaggle competitions download -c painter-by-numbers -f test.zip"
   ]
  },
  {
   "cell_type": "code",
   "execution_count": null,
   "metadata": {
    "colab": {},
    "colab_type": "code",
    "id": "ZJZqCFkN2Ots"
   },
   "outputs": [],
   "source": [
    "%%capture\n",
    "!unzip test.zip -d 'data/style'"
   ]
  },
  {
   "cell_type": "markdown",
   "metadata": {
    "colab_type": "text",
    "id": "DUjnsNk6je-n"
   },
   "source": [
    "#**Change your active directory to move into the GitHub repo**"
   ]
  },
  {
   "cell_type": "code",
   "execution_count": null,
   "metadata": {
    "colab": {
     "base_uri": "https://localhost:8080/",
     "height": 55
    },
    "colab_type": "code",
    "id": "Q-WgrrLF2ucs",
    "outputId": "72ce9523-057f-4528-aba1-9865696c5a6a"
   },
   "outputs": [
    {
     "name": "stdout",
     "output_type": "stream",
     "text": [
      "/content/Multimodal-Style-Transfer-via-Graph-Cuts/Multimodal-Style-Transfer-via-Graph-Cuts/Multimodal-Style-Transfer-via-Graph-Cuts/Pytorch_MST/Multimodal-Style-Transfer-via-Graph-Cuts/Multimodal-Style-Transfer-via-Graph-Cuts\n"
     ]
    }
   ],
   "source": [
    "%cd Multimodal-Style-Transfer-via-Graph-Cuts"
   ]
  },
  {
   "cell_type": "markdown",
   "metadata": {
    "colab_type": "text",
    "id": "VEC07014jrG2"
   },
   "source": [
    "#**This cell runs the dataset.py python file to ensure that all images collected above are converted as required**"
   ]
  },
  {
   "cell_type": "code",
   "execution_count": null,
   "metadata": {
    "colab": {},
    "colab_type": "code",
    "id": "co-ZAl3KCr92"
   },
   "outputs": [],
   "source": [
    "%%capture\n",
    "!python3 dataset.py --train_content_dir '/content/data/content/train2017' --train_style_dir '/content/data/style/train' --test_content_dir '/content/data/content/test2017' --test_style_dir '/content/data/style/test'"
   ]
  },
  {
   "cell_type": "markdown",
   "metadata": {
    "colab_type": "text",
    "id": "B9pvKcZWkEZ2"
   },
   "source": [
    "#**This cell runs the train.py** \n",
    "Training happens in this cell"
   ]
  },
  {
   "cell_type": "code",
   "execution_count": null,
   "metadata": {
    "colab": {
     "base_uri": "https://localhost:8080/",
     "height": 583
    },
    "colab_type": "code",
    "id": "pb0tzV63077W",
    "outputId": "bf1f270d-7ef5-4a2f-9654-85e4cad8fcb4"
   },
   "outputs": [
    {
     "name": "stdout",
     "output_type": "stream",
     "text": [
      "CUDA available: Tesla K80\n",
      "mini-batch size: 16\n",
      "epochs: 1\n",
      "\n",
      "length of train image pairs 10912\n",
      "# Downloading vgg_normalised_conv5_1.pth => Saved\n",
      "# Downloading decoder_relu4_1.pth => Saved\n",
      "start 1 epoch\n",
      "0it [00:00, ?it/s][1/total 1 epoch], [1 /total 682 iteration]: 5.4319915771484375\n",
      "1it [00:18, 18.22s/it]Traceback (most recent call last):\n",
      "  File \"train.py\", line 120, in <module>\n",
      "    loss.backward()\n",
      "  File \"/usr/local/lib/python3.6/dist-packages/torch/tensor.py\", line 166, in backward\n",
      "    torch.autograd.backward(self, gradient, retain_graph, create_graph)\n",
      "  File \"/usr/local/lib/python3.6/dist-packages/torch/autograd/__init__.py\", line 99, in backward\n",
      "    allow_unreachable=True)  # allow_unreachable flag\n",
      "RuntimeError: CUDA out of memory. Tried to allocate 256.00 MiB (GPU 0; 11.17 GiB total capacity; 9.87 GiB already allocated; 232.69 MiB free; 775.13 MiB cached)\n",
      "Exception ignored in: <bound method tqdm.__del__ of 1it [00:34, 18.22s/it]>\n",
      "Traceback (most recent call last):\n",
      "  File \"/usr/local/lib/python3.6/dist-packages/tqdm/_tqdm.py\", line 931, in __del__\n",
      "    self.close()\n",
      "  File \"/usr/local/lib/python3.6/dist-packages/tqdm/_tqdm.py\", line 1133, in close\n",
      "    self._decr_instances(self)\n",
      "  File \"/usr/local/lib/python3.6/dist-packages/tqdm/_tqdm.py\", line 496, in _decr_instances\n",
      "    cls.monitor.exit()\n",
      "  File \"/usr/local/lib/python3.6/dist-packages/tqdm/_monitor.py\", line 52, in exit\n",
      "    self.join()\n",
      "  File \"/usr/lib/python3.6/threading.py\", line 1053, in join\n",
      "    raise RuntimeError(\"cannot join current thread\")\n",
      "RuntimeError: cannot join current thread\n"
     ]
    }
   ],
   "source": [
    "!python3 train.py  --train_content_dir '/content/data/content/train2017' --train_style_dir '/content/data/style/train' --test_content_dir '/content/data/content/test2017' --test_style_dir '/content/data/style/test'"
   ]
  },
  {
   "cell_type": "markdown",
   "metadata": {
    "colab_type": "text",
    "id": "cth5hxSSkcq_"
   },
   "source": [
    "#**This is to zip the results directory so that it can be downloaded for later use**\n",
    "\n",
    "This is required as colab does not allow to download directories directely"
   ]
  },
  {
   "cell_type": "code",
   "execution_count": null,
   "metadata": {
    "colab": {},
    "colab_type": "code",
    "id": "gYwP3fuT6Kkh"
   },
   "outputs": [],
   "source": [
    "!zip -r /content/result.zip /content/Multimodal-Style-Transfer-via-Graph-Cuts/result"
   ]
  },
  {
   "cell_type": "markdown",
   "metadata": {
    "colab_type": "text",
    "id": "2oIqlZtDkuF0"
   },
   "source": [
    "#**This is the Testing Section**\n",
    "#**Run the first cell  twice to upload your content and style images to test**\n",
    "I will be providing some sample images in content and style folders for immediate use\n",
    "\n",
    "#**Run the second cell by passing the correct path to the appropriate argument**\n",
    "\n",
    "The generated files can be downloaded individually"
   ]
  },
  {
   "cell_type": "code",
   "execution_count": null,
   "metadata": {
    "colab": {},
    "colab_type": "code",
    "id": "aMGe6oXO8dE5"
   },
   "outputs": [],
   "source": [
    "from google.colab import files\n",
    "files.upload()"
   ]
  },
  {
   "cell_type": "code",
   "execution_count": null,
   "metadata": {
    "colab": {},
    "colab_type": "code",
    "id": "FbQCM9SR2jLI"
   },
   "outputs": [],
   "source": [
    "!python test.py --content --style --output_name out --model_state_path"
   ]
  }
 ],
 "metadata": {
  "accelerator": "GPU",
  "colab": {
   "collapsed_sections": [],
   "include_colab_link": true,
   "name": "Notebook for training and testing on Google Colab.ipynb",
   "provenance": [],
   "toc_visible": true
  },
  "kernelspec": {
   "display_name": "Python 3 (ipykernel)",
   "language": "python",
   "name": "python3"
  },
  "language_info": {
   "codemirror_mode": {
    "name": "ipython",
    "version": 3
   },
   "file_extension": ".py",
   "mimetype": "text/x-python",
   "name": "python",
   "nbconvert_exporter": "python",
   "pygments_lexer": "ipython3",
   "version": "3.9.12"
  }
 },
 "nbformat": 4,
 "nbformat_minor": 4
}
